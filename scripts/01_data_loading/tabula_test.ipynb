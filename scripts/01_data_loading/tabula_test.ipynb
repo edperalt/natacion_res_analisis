{
 "cells": [
  {
   "cell_type": "code",
   "execution_count": 1,
   "metadata": {},
   "outputs": [],
   "source": [
    "import tabula\n",
    "import pandas as pd\n",
    "import os\n"
   ]
  },
  {
   "cell_type": "code",
   "execution_count": 2,
   "metadata": {},
   "outputs": [
    {
     "data": {
      "text/plain": [
       "['resultados_completos_master_invierno_2021.pdf']"
      ]
     },
     "execution_count": 2,
     "metadata": {},
     "output_type": "execute_result"
    }
   ],
   "source": [
    "the_files =os.listdir(\"../../raw_data/\")\n",
    "\n",
    "the_files"
   ]
  },
  {
   "cell_type": "code",
   "execution_count": 4,
   "metadata": {
    "scrolled": true
   },
   "outputs": [
    {
     "name": "stderr",
     "output_type": "stream",
     "text": [
      "Got stderr: Apr 11, 2021 10:21:23 PM org.apache.pdfbox.pdmodel.font.PDType0Font toUnicode\n",
      "WARNING: No Unicode mapping for CID+32 (32) in font Arial\n",
      "Apr 11, 2021 10:21:23 PM org.apache.pdfbox.pdmodel.font.PDCIDFontType2 codeToGID\n",
      "WARNING: Failed to find a character mapping for 32 in Arial\n",
      "\n"
     ]
    }
   ],
   "source": [
    "castellon_data = tabula.read_pdf(\"../../raw_data/\" + the_files[0] , pages = \"all\" )"
   ]
  },
  {
   "cell_type": "code",
   "execution_count": 5,
   "metadata": {
    "scrolled": true
   },
   "outputs": [
    {
     "data": {
      "text/plain": [
       "425"
      ]
     },
     "execution_count": 5,
     "metadata": {},
     "output_type": "execute_result"
    }
   ],
   "source": [
    "len(castellon_data)"
   ]
  },
  {
   "cell_type": "code",
   "execution_count": 10,
   "metadata": {},
   "outputs": [
    {
     "data": {
      "text/html": [
       "<div>\n",
       "<style scoped>\n",
       "    .dataframe tbody tr th:only-of-type {\n",
       "        vertical-align: middle;\n",
       "    }\n",
       "\n",
       "    .dataframe tbody tr th {\n",
       "        vertical-align: top;\n",
       "    }\n",
       "\n",
       "    .dataframe thead th {\n",
       "        text-align: right;\n",
       "    }\n",
       "</style>\n",
       "<table border=\"1\" class=\"dataframe\">\n",
       "  <thead>\n",
       "    <tr style=\"text-align: right;\">\n",
       "      <th></th>\n",
       "      <th>Puntos: ESP Masters 20</th>\n",
       "      <th>Unnamed: 0</th>\n",
       "      <th>Unnamed: 1</th>\n",
       "      <th>Unnamed: 2</th>\n",
       "      <th>Unnamed: 3</th>\n",
       "    </tr>\n",
       "  </thead>\n",
       "  <tbody>\n",
       "    <tr>\n",
       "      <th>0</th>\n",
       "      <td>Clasificación AN</td>\n",
       "      <td>NaN</td>\n",
       "      <td>NaN</td>\n",
       "      <td>Tiempo</td>\n",
       "      <td>Pts</td>\n",
       "    </tr>\n",
       "    <tr>\n",
       "      <th>1</th>\n",
       "      <td>80+</td>\n",
       "      <td>NaN</td>\n",
       "      <td>NaN</td>\n",
       "      <td>NaN</td>\n",
       "      <td>NaN</td>\n",
       "    </tr>\n",
       "    <tr>\n",
       "      <th>2</th>\n",
       "      <td>1. CANALES DE MENDOZA, Joaquin Ma 40</td>\n",
       "      <td>NaN</td>\n",
       "      <td>R.C. Mediterraneo</td>\n",
       "      <td>1:43.86</td>\n",
       "      <td>653</td>\n",
       "    </tr>\n",
       "    <tr>\n",
       "      <th>3</th>\n",
       "      <td>50m: 48.38 48.38 100m: 1:43.86</td>\n",
       "      <td>NaN</td>\n",
       "      <td>55.48</td>\n",
       "      <td>NaN</td>\n",
       "      <td>NaN</td>\n",
       "    </tr>\n",
       "    <tr>\n",
       "      <th>4</th>\n",
       "      <td>2. BOSSERT SCHWARZE, Ingolf 40</td>\n",
       "      <td>NaN</td>\n",
       "      <td>C. Tenerife Masters</td>\n",
       "      <td>2:22.25</td>\n",
       "      <td>254</td>\n",
       "    </tr>\n",
       "    <tr>\n",
       "      <th>5</th>\n",
       "      <td>50m: 1:08.34 1:08.34 100m: 2:22.25</td>\n",
       "      <td>NaN</td>\n",
       "      <td>1:13.91</td>\n",
       "      <td>NaN</td>\n",
       "      <td>NaN</td>\n",
       "    </tr>\n",
       "    <tr>\n",
       "      <th>6</th>\n",
       "      <td>75+</td>\n",
       "      <td>NaN</td>\n",
       "      <td>NaN</td>\n",
       "      <td>NaN</td>\n",
       "      <td>NaN</td>\n",
       "    </tr>\n",
       "    <tr>\n",
       "      <th>7</th>\n",
       "      <td>1. LESTIDEAU, Jean Claude 46</td>\n",
       "      <td>NaN</td>\n",
       "      <td>C. Tenerife Masters</td>\n",
       "      <td>1:29.99</td>\n",
       "      <td>640</td>\n",
       "    </tr>\n",
       "    <tr>\n",
       "      <th>8</th>\n",
       "      <td>50m: 41.39 41.39 100m: 1:29.99</td>\n",
       "      <td>NaN</td>\n",
       "      <td>48.60</td>\n",
       "      <td>NaN</td>\n",
       "      <td>NaN</td>\n",
       "    </tr>\n",
       "    <tr>\n",
       "      <th>9</th>\n",
       "      <td>65+</td>\n",
       "      <td>NaN</td>\n",
       "      <td>NaN</td>\n",
       "      <td>NaN</td>\n",
       "      <td>NaN</td>\n",
       "    </tr>\n",
       "    <tr>\n",
       "      <th>10</th>\n",
       "      <td>1. MURUZABAL SITGES, Tomas 56</td>\n",
       "      <td>NaN</td>\n",
       "      <td>C. Tenis Chamartin</td>\n",
       "      <td>1:34.17</td>\n",
       "      <td>334</td>\n",
       "    </tr>\n",
       "  </tbody>\n",
       "</table>\n",
       "</div>"
      ],
      "text/plain": [
       "                  Puntos: ESP Masters 20  Unnamed: 0           Unnamed: 1  \\\n",
       "0                       Clasificación AN         NaN                  NaN   \n",
       "1                                    80+         NaN                  NaN   \n",
       "2   1. CANALES DE MENDOZA, Joaquin Ma 40         NaN    R.C. Mediterraneo   \n",
       "3         50m: 48.38 48.38 100m: 1:43.86         NaN                55.48   \n",
       "4         2. BOSSERT SCHWARZE, Ingolf 40         NaN  C. Tenerife Masters   \n",
       "5     50m: 1:08.34 1:08.34 100m: 2:22.25         NaN              1:13.91   \n",
       "6                                    75+         NaN                  NaN   \n",
       "7           1. LESTIDEAU, Jean Claude 46         NaN  C. Tenerife Masters   \n",
       "8         50m: 41.39 41.39 100m: 1:29.99         NaN                48.60   \n",
       "9                                    65+         NaN                  NaN   \n",
       "10         1. MURUZABAL SITGES, Tomas 56         NaN   C. Tenis Chamartin   \n",
       "\n",
       "   Unnamed: 2 Unnamed: 3  \n",
       "0      Tiempo        Pts  \n",
       "1         NaN        NaN  \n",
       "2     1:43.86        653  \n",
       "3         NaN        NaN  \n",
       "4     2:22.25        254  \n",
       "5         NaN        NaN  \n",
       "6         NaN        NaN  \n",
       "7     1:29.99        640  \n",
       "8         NaN        NaN  \n",
       "9         NaN        NaN  \n",
       "10    1:34.17        334  "
      ]
     },
     "execution_count": 10,
     "metadata": {},
     "output_type": "execute_result"
    }
   ],
   "source": [
    "castellon_data[4]"
   ]
  },
  {
   "cell_type": "code",
   "execution_count": null,
   "metadata": {},
   "outputs": [],
   "source": []
  }
 ],
 "metadata": {
  "kernelspec": {
   "display_name": "Python 3",
   "language": "python",
   "name": "python3"
  },
  "language_info": {
   "codemirror_mode": {
    "name": "ipython",
    "version": 3
   },
   "file_extension": ".py",
   "mimetype": "text/x-python",
   "name": "python",
   "nbconvert_exporter": "python",
   "pygments_lexer": "ipython3",
   "version": "3.8.5"
  },
  "toc": {
   "base_numbering": 1,
   "nav_menu": {},
   "number_sections": true,
   "sideBar": true,
   "skip_h1_title": false,
   "title_cell": "Table of Contents",
   "title_sidebar": "Contents",
   "toc_cell": false,
   "toc_position": {},
   "toc_section_display": true,
   "toc_window_display": false
  },
  "varInspector": {
   "cols": {
    "lenName": 16,
    "lenType": 16,
    "lenVar": 40
   },
   "kernels_config": {
    "python": {
     "delete_cmd_postfix": "",
     "delete_cmd_prefix": "del ",
     "library": "var_list.py",
     "varRefreshCmd": "print(var_dic_list())"
    },
    "r": {
     "delete_cmd_postfix": ") ",
     "delete_cmd_prefix": "rm(",
     "library": "var_list.r",
     "varRefreshCmd": "cat(var_dic_list()) "
    }
   },
   "types_to_exclude": [
    "module",
    "function",
    "builtin_function_or_method",
    "instance",
    "_Feature"
   ],
   "window_display": false
  }
 },
 "nbformat": 4,
 "nbformat_minor": 4
}
